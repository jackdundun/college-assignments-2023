{
  "nbformat": 4,
  "nbformat_minor": 0,
  "metadata": {
    "colab": {
      "name": "heart_pyspark.ipynb",
      "provenance": [],
      "collapsed_sections": []
    },
    "kernelspec": {
      "name": "python3",
      "display_name": "Python 3"
    },
    "language_info": {
      "name": "python"
    }
  },
  "cells": [
    {
      "cell_type": "code",
      "execution_count": null,
      "metadata": {
        "colab": {
          "base_uri": "https://localhost:8080/"
        },
        "id": "e1kZsjAXjSxJ",
        "outputId": "396502f5-e59e-4b0d-e540-008709f728a2"
      },
      "outputs": [
        {
          "output_type": "stream",
          "name": "stdout",
          "text": [
            "Looking in indexes: https://pypi.org/simple, https://us-python.pkg.dev/colab-wheels/public/simple/\n",
            "Requirement already satisfied: pyspark in /usr/local/lib/python3.7/dist-packages (3.3.0)\n",
            "Requirement already satisfied: py4j in /usr/local/lib/python3.7/dist-packages (0.10.9.5)\n",
            "Collecting handyspark\n",
            "  Downloading handyspark-0.2.2a1-py2.py3-none-any.whl (39 kB)\n",
            "Requirement already satisfied: scipy in /usr/local/lib/python3.7/dist-packages (from handyspark) (1.7.3)\n",
            "Collecting findspark\n",
            "  Downloading findspark-2.0.1-py2.py3-none-any.whl (4.4 kB)\n",
            "Requirement already satisfied: pyarrow in /usr/local/lib/python3.7/dist-packages (from handyspark) (6.0.1)\n",
            "Requirement already satisfied: seaborn in /usr/local/lib/python3.7/dist-packages (from handyspark) (0.11.2)\n",
            "Requirement already satisfied: numpy in /usr/local/lib/python3.7/dist-packages (from handyspark) (1.21.6)\n",
            "Requirement already satisfied: pandas in /usr/local/lib/python3.7/dist-packages (from handyspark) (1.3.5)\n",
            "Requirement already satisfied: scikit-learn in /usr/local/lib/python3.7/dist-packages (from handyspark) (1.0.2)\n",
            "Requirement already satisfied: matplotlib in /usr/local/lib/python3.7/dist-packages (from handyspark) (3.2.2)\n",
            "Requirement already satisfied: kiwisolver>=1.0.1 in /usr/local/lib/python3.7/dist-packages (from matplotlib->handyspark) (1.4.4)\n",
            "Requirement already satisfied: python-dateutil>=2.1 in /usr/local/lib/python3.7/dist-packages (from matplotlib->handyspark) (2.8.2)\n",
            "Requirement already satisfied: pyparsing!=2.0.4,!=2.1.2,!=2.1.6,>=2.0.1 in /usr/local/lib/python3.7/dist-packages (from matplotlib->handyspark) (3.0.9)\n",
            "Requirement already satisfied: cycler>=0.10 in /usr/local/lib/python3.7/dist-packages (from matplotlib->handyspark) (0.11.0)\n",
            "Requirement already satisfied: typing-extensions in /usr/local/lib/python3.7/dist-packages (from kiwisolver>=1.0.1->matplotlib->handyspark) (4.1.1)\n",
            "Requirement already satisfied: six>=1.5 in /usr/local/lib/python3.7/dist-packages (from python-dateutil>=2.1->matplotlib->handyspark) (1.15.0)\n",
            "Requirement already satisfied: pytz>=2017.3 in /usr/local/lib/python3.7/dist-packages (from pandas->handyspark) (2022.2)\n",
            "Requirement already satisfied: joblib>=0.11 in /usr/local/lib/python3.7/dist-packages (from scikit-learn->handyspark) (1.1.0)\n",
            "Requirement already satisfied: threadpoolctl>=2.0.0 in /usr/local/lib/python3.7/dist-packages (from scikit-learn->handyspark) (3.1.0)\n",
            "Installing collected packages: findspark, handyspark\n",
            "Successfully installed findspark-2.0.1 handyspark-0.2.2a1\n"
          ]
        }
      ],
      "source": [
        "!pip install pyspark py4j handyspark"
      ]
    },
    {
      "cell_type": "code",
      "source": [
        "from pyspark.ml.classification import LogisticRegression\n",
        "from pyspark.ml.evaluation import MulticlassClassificationEvaluator\n",
        "from pyspark.ml.feature import StandardScaler, StringIndexer, VectorAssembler\n",
        "from pyspark.sql import SparkSession\n",
        "from pyspark.sql.functions import * \n",
        "from pyspark.sql.types import DoubleType\n",
        "from pyspark.ml import Pipeline\n",
        "from pyspark.ml.tuning import CrossValidator, ParamGridBuilder\n",
        "from pyspark.ml.evaluation import RegressionEvaluator\n",
        "from pyspark.ml.evaluation import BinaryClassificationEvaluator\n",
        "\n",
        "import pandas as pd\n",
        "from handyspark import *\n",
        "import matplotlib.pyplot as plt\n",
        "import seaborn as sns"
      ],
      "metadata": {
        "id": "bd7LXPntjcZf"
      },
      "execution_count": null,
      "outputs": []
    },
    {
      "cell_type": "code",
      "source": [
        "spark = SparkSession.builder.master(\"local\").appName(\"LogReg\").getOrCreate()"
      ],
      "metadata": {
        "id": "gSn5HwUzjctF"
      },
      "execution_count": null,
      "outputs": []
    },
    {
      "cell_type": "code",
      "source": [
        "from google.colab import files\n",
        "uploaded = files.upload()"
      ],
      "metadata": {
        "colab": {
          "resources": {
            "http://localhost:8080/nbextensions/google.colab/files.js": {
              "data": "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",
              "ok": true,
              "headers": [
                [
                  "content-type",
                  "application/javascript"
                ]
              ],
              "status": 200,
              "status_text": ""
            }
          },
          "base_uri": "https://localhost:8080/",
          "height": 74
        },
        "id": "RF2Inztp9Q48",
        "outputId": "d3400261-6da4-4092-8ae5-c822808a6a68"
      },
      "execution_count": null,
      "outputs": [
        {
          "output_type": "display_data",
          "data": {
            "text/plain": [
              "<IPython.core.display.HTML object>"
            ],
            "text/html": [
              "\n",
              "     <input type=\"file\" id=\"files-8fc1afdd-9ea0-418a-abc2-ee9e2411dacd\" name=\"files[]\" multiple disabled\n",
              "        style=\"border:none\" />\n",
              "     <output id=\"result-8fc1afdd-9ea0-418a-abc2-ee9e2411dacd\">\n",
              "      Upload widget is only available when the cell has been executed in the\n",
              "      current browser session. Please rerun this cell to enable.\n",
              "      </output>\n",
              "      <script src=\"/nbextensions/google.colab/files.js\"></script> "
            ]
          },
          "metadata": {}
        },
        {
          "output_type": "stream",
          "name": "stdout",
          "text": [
            "Saving heart_indicators.csv to heart_indicators.csv\n"
          ]
        }
      ]
    },
    {
      "cell_type": "code",
      "source": [
        "heart_df = spark.read \\\n",
        "    .option(\"inferSchema\",True) \\\n",
        "    .option(\"sep\",\",\") \\\n",
        "    .option(\"header\",True)\\\n",
        "    .csv(\"heart_indicators.csv\")"
      ],
      "metadata": {
        "id": "G23_aFlZjc5X"
      },
      "execution_count": null,
      "outputs": []
    },
    {
      "cell_type": "code",
      "source": [
        "heart_df.show(10)"
      ],
      "metadata": {
        "colab": {
          "base_uri": "https://localhost:8080/"
        },
        "id": "OCpI_N0fjo4Q",
        "outputId": "a00835d4-e71f-4193-cf19-9be3a1325790"
      },
      "execution_count": null,
      "outputs": [
        {
          "output_type": "stream",
          "name": "stdout",
          "text": [
            "+--------------------+------+--------+---------+----+------+------+--------+------------+------+-------+-----------------+-------------+-----------+-------+--------+--------+--------+---+----+---------+------+\n",
            "|HeartDiseaseorAttack|HighBP|HighChol|CholCheck| BMI|Smoker|Stroke|Diabetes|PhysActivity|Fruits|Veggies|HvyAlcoholConsump|AnyHealthcare|NoDocbcCost|GenHlth|MentHlth|PhysHlth|DiffWalk|Sex| Age|Education|Income|\n",
            "+--------------------+------+--------+---------+----+------+------+--------+------------+------+-------+-----------------+-------------+-----------+-------+--------+--------+--------+---+----+---------+------+\n",
            "|                 0.0|   1.0|     1.0|      1.0|40.0|   1.0|   0.0|     0.0|         0.0|   0.0|    1.0|              0.0|          1.0|        0.0|    5.0|    18.0|    15.0|     1.0|0.0| 9.0|      4.0|   3.0|\n",
            "|                 0.0|   0.0|     0.0|      0.0|25.0|   1.0|   0.0|     0.0|         1.0|   0.0|    0.0|              0.0|          0.0|        1.0|    3.0|     0.0|     0.0|     0.0|0.0| 7.0|      6.0|   1.0|\n",
            "|                 0.0|   1.0|     1.0|      1.0|28.0|   0.0|   0.0|     0.0|         0.0|   1.0|    0.0|              0.0|          1.0|        1.0|    5.0|    30.0|    30.0|     1.0|0.0| 9.0|      4.0|   8.0|\n",
            "|                 0.0|   1.0|     0.0|      1.0|27.0|   0.0|   0.0|     0.0|         1.0|   1.0|    1.0|              0.0|          1.0|        0.0|    2.0|     0.0|     0.0|     0.0|0.0|11.0|      3.0|   6.0|\n",
            "|                 0.0|   1.0|     1.0|      1.0|24.0|   0.0|   0.0|     0.0|         1.0|   1.0|    1.0|              0.0|          1.0|        0.0|    2.0|     3.0|     0.0|     0.0|0.0|11.0|      5.0|   4.0|\n",
            "|                 0.0|   1.0|     1.0|      1.0|25.0|   1.0|   0.0|     0.0|         1.0|   1.0|    1.0|              0.0|          1.0|        0.0|    2.0|     0.0|     2.0|     0.0|1.0|10.0|      6.0|   8.0|\n",
            "|                 0.0|   1.0|     0.0|      1.0|30.0|   1.0|   0.0|     0.0|         0.0|   0.0|    0.0|              0.0|          1.0|        0.0|    3.0|     0.0|    14.0|     0.0|0.0| 9.0|      6.0|   7.0|\n",
            "|                 0.0|   1.0|     1.0|      1.0|25.0|   1.0|   0.0|     0.0|         1.0|   0.0|    1.0|              0.0|          1.0|        0.0|    3.0|     0.0|     0.0|     1.0|0.0|11.0|      4.0|   4.0|\n",
            "|                 1.0|   1.0|     1.0|      1.0|30.0|   1.0|   0.0|     2.0|         0.0|   1.0|    1.0|              0.0|          1.0|        0.0|    5.0|    30.0|    30.0|     1.0|0.0| 9.0|      5.0|   1.0|\n",
            "|                 0.0|   0.0|     0.0|      1.0|24.0|   0.0|   0.0|     0.0|         0.0|   0.0|    1.0|              0.0|          1.0|        0.0|    2.0|     0.0|     0.0|     0.0|1.0| 8.0|      4.0|   3.0|\n",
            "+--------------------+------+--------+---------+----+------+------+--------+------------+------+-------+-----------------+-------------+-----------+-------+--------+--------+--------+---+----+---------+------+\n",
            "only showing top 10 rows\n",
            "\n"
          ]
        }
      ]
    },
    {
      "cell_type": "code",
      "source": [
        "# describing the data\n",
        "display(heart_df.describe())\n",
        "print('rows after dropping NAs'), heart_df.dropna().count()\n",
        "print('rows in the data') , heart_df.count()\n"
      ],
      "metadata": {
        "colab": {
          "base_uri": "https://localhost:8080/",
          "height": 138
        },
        "id": "toxJNp0UaYYg",
        "outputId": "bbb95301-737b-4b13-f5bd-a8829fed2e56"
      },
      "execution_count": null,
      "outputs": [
        {
          "output_type": "display_data",
          "data": {
            "text/plain": [
              "DataFrame[summary: string, HeartDiseaseorAttack: string, HighBP: string, HighChol: string, CholCheck: string, BMI: string, Smoker: string, Stroke: string, Diabetes: string, PhysActivity: string, Fruits: string, Veggies: string, HvyAlcoholConsump: string, AnyHealthcare: string, NoDocbcCost: string, GenHlth: string, MentHlth: string, PhysHlth: string, DiffWalk: string, Sex: string, Age: string, Education: string, Income: string]"
            ]
          },
          "metadata": {}
        },
        {
          "output_type": "stream",
          "name": "stdout",
          "text": [
            "rows after dropping NAs\n",
            "rows in the data\n"
          ]
        },
        {
          "output_type": "execute_result",
          "data": {
            "text/plain": [
              "(None, 253680)"
            ]
          },
          "metadata": {},
          "execution_count": 108
        }
      ]
    },
    {
      "cell_type": "code",
      "source": [
        "# dropping rows due to lack of usefulness for the study\n",
        "\n",
        "heart_df = heart_df.drop('PhysActivity','Fruits','NoDocbcCost','AnyHealthcare', \n",
        "                                            'Veggies', 'HvyAlcoholConsump', 'GenHlth', 'Income',\n",
        "                                            'MentHlth', 'PhysHlth', 'DiffWalk', 'CholCheck', 'Education')"
      ],
      "metadata": {
        "id": "Vo0HZTJok2cD"
      },
      "execution_count": null,
      "outputs": []
    },
    {
      "cell_type": "code",
      "source": [
        "# 1 is male, 0 is female\n",
        "\n",
        "heart_df.show(10)"
      ],
      "metadata": {
        "colab": {
          "base_uri": "https://localhost:8080/"
        },
        "id": "OuK-CDOek7GQ",
        "outputId": "b523f43e-4f36-48d3-89fb-f1e21783d9d6"
      },
      "execution_count": null,
      "outputs": [
        {
          "output_type": "stream",
          "name": "stdout",
          "text": [
            "+--------------------+------+--------+----+------+------+--------+---+----+\n",
            "|HeartDiseaseorAttack|HighBP|HighChol| BMI|Smoker|Stroke|Diabetes|Sex| Age|\n",
            "+--------------------+------+--------+----+------+------+--------+---+----+\n",
            "|                 0.0|   1.0|     1.0|40.0|   1.0|   0.0|     0.0|0.0| 9.0|\n",
            "|                 0.0|   0.0|     0.0|25.0|   1.0|   0.0|     0.0|0.0| 7.0|\n",
            "|                 0.0|   1.0|     1.0|28.0|   0.0|   0.0|     0.0|0.0| 9.0|\n",
            "|                 0.0|   1.0|     0.0|27.0|   0.0|   0.0|     0.0|0.0|11.0|\n",
            "|                 0.0|   1.0|     1.0|24.0|   0.0|   0.0|     0.0|0.0|11.0|\n",
            "|                 0.0|   1.0|     1.0|25.0|   1.0|   0.0|     0.0|1.0|10.0|\n",
            "|                 0.0|   1.0|     0.0|30.0|   1.0|   0.0|     0.0|0.0| 9.0|\n",
            "|                 0.0|   1.0|     1.0|25.0|   1.0|   0.0|     0.0|0.0|11.0|\n",
            "|                 1.0|   1.0|     1.0|30.0|   1.0|   0.0|     2.0|0.0| 9.0|\n",
            "|                 0.0|   0.0|     0.0|24.0|   0.0|   0.0|     0.0|1.0| 8.0|\n",
            "+--------------------+------+--------+----+------+------+--------+---+----+\n",
            "only showing top 10 rows\n",
            "\n"
          ]
        }
      ]
    },
    {
      "cell_type": "code",
      "source": [
        "heart_df.dtypes"
      ],
      "metadata": {
        "colab": {
          "base_uri": "https://localhost:8080/"
        },
        "id": "PQtia_e4rCjO",
        "outputId": "860c5054-853f-441c-d822-065a5ee12e44"
      },
      "execution_count": null,
      "outputs": [
        {
          "output_type": "execute_result",
          "data": {
            "text/plain": [
              "[('HeartDiseaseorAttack', 'double'),\n",
              " ('HighBP', 'double'),\n",
              " ('HighChol', 'double'),\n",
              " ('BMI', 'double'),\n",
              " ('Smoker', 'double'),\n",
              " ('Stroke', 'double'),\n",
              " ('Diabetes', 'double'),\n",
              " ('Sex', 'double'),\n",
              " ('Age', 'double')]"
            ]
          },
          "metadata": {},
          "execution_count": 111
        }
      ]
    },
    {
      "cell_type": "code",
      "source": [
        "#converting Non-Diabetic, Type 1 and Type 2 diabetes into a single binary diabetes variable \n",
        "\n",
        "heart_df.withColumn('Diabetes', when(heart_df.Diabetes == '0.0',heart_df.Diabetes).otherwise(1.0)).show()\n",
        "\n",
        "heart_df = heart_df.withColumn(\"Diabetes\", when(heart_df.Diabetes == 0, 0) \\\n",
        "          .when(heart_df.Diabetes == 1, 1) \\\n",
        "      .when(heart_df.Diabetes ==2, 1))"
      ],
      "metadata": {
        "colab": {
          "base_uri": "https://localhost:8080/"
        },
        "id": "wX0KtI2jlzzD",
        "outputId": "16544475-f9a5-4227-bc66-cd363f3b947e"
      },
      "execution_count": null,
      "outputs": [
        {
          "output_type": "stream",
          "name": "stdout",
          "text": [
            "+--------------------+------+--------+----+------+------+--------+---+----+\n",
            "|HeartDiseaseorAttack|HighBP|HighChol| BMI|Smoker|Stroke|Diabetes|Sex| Age|\n",
            "+--------------------+------+--------+----+------+------+--------+---+----+\n",
            "|                 0.0|   1.0|     1.0|40.0|   1.0|   0.0|     0.0|0.0| 9.0|\n",
            "|                 0.0|   0.0|     0.0|25.0|   1.0|   0.0|     0.0|0.0| 7.0|\n",
            "|                 0.0|   1.0|     1.0|28.0|   0.0|   0.0|     0.0|0.0| 9.0|\n",
            "|                 0.0|   1.0|     0.0|27.0|   0.0|   0.0|     0.0|0.0|11.0|\n",
            "|                 0.0|   1.0|     1.0|24.0|   0.0|   0.0|     0.0|0.0|11.0|\n",
            "|                 0.0|   1.0|     1.0|25.0|   1.0|   0.0|     0.0|1.0|10.0|\n",
            "|                 0.0|   1.0|     0.0|30.0|   1.0|   0.0|     0.0|0.0| 9.0|\n",
            "|                 0.0|   1.0|     1.0|25.0|   1.0|   0.0|     0.0|0.0|11.0|\n",
            "|                 1.0|   1.0|     1.0|30.0|   1.0|   0.0|     1.0|0.0| 9.0|\n",
            "|                 0.0|   0.0|     0.0|24.0|   0.0|   0.0|     0.0|1.0| 8.0|\n",
            "|                 0.0|   0.0|     0.0|25.0|   1.0|   0.0|     1.0|1.0|13.0|\n",
            "|                 0.0|   1.0|     1.0|34.0|   1.0|   0.0|     0.0|0.0|10.0|\n",
            "|                 0.0|   0.0|     0.0|26.0|   1.0|   0.0|     0.0|0.0| 7.0|\n",
            "|                 0.0|   1.0|     1.0|28.0|   0.0|   0.0|     1.0|0.0|11.0|\n",
            "|                 0.0|   0.0|     1.0|33.0|   1.0|   1.0|     0.0|0.0| 4.0|\n",
            "|                 0.0|   1.0|     0.0|33.0|   0.0|   0.0|     0.0|0.0| 6.0|\n",
            "|                 0.0|   1.0|     1.0|21.0|   0.0|   0.0|     0.0|0.0|10.0|\n",
            "|                 0.0|   0.0|     0.0|23.0|   1.0|   0.0|     1.0|1.0| 7.0|\n",
            "|                 0.0|   0.0|     0.0|23.0|   0.0|   0.0|     0.0|0.0| 2.0|\n",
            "|                 0.0|   0.0|     1.0|28.0|   0.0|   0.0|     0.0|1.0| 4.0|\n",
            "+--------------------+------+--------+----+------+------+--------+---+----+\n",
            "only showing top 20 rows\n",
            "\n"
          ]
        }
      ]
    },
    {
      "cell_type": "code",
      "source": [
        "#converting to integers \n",
        "\n",
        "cols = [col(field[0]).cast('int') if field[1] == 'double' else col(field[0]) for field in heart_df.dtypes]\n",
        "heart_df = heart_df.select(cols)"
      ],
      "metadata": {
        "id": "s_4WzEDLsaS2"
      },
      "execution_count": null,
      "outputs": []
    },
    {
      "cell_type": "code",
      "source": [
        "# splitting into train and test sets\n",
        "\n",
        "\n",
        "train, test = heart_df.randomSplit([0.8,0.2], seed=1)"
      ],
      "metadata": {
        "id": "QnkTH2DtUTpC"
      },
      "execution_count": null,
      "outputs": []
    },
    {
      "cell_type": "code",
      "source": [
        "train.count()\n",
        "test.count()"
      ],
      "metadata": {
        "colab": {
          "base_uri": "https://localhost:8080/"
        },
        "id": "TpZzUM2bUk7a",
        "outputId": "a1b52cdc-2e4b-4143-8860-06b88a3b4c3d"
      },
      "execution_count": null,
      "outputs": [
        {
          "output_type": "execute_result",
          "data": {
            "text/plain": [
              "50785"
            ]
          },
          "metadata": {},
          "execution_count": 115
        }
      ]
    },
    {
      "cell_type": "code",
      "source": [
        "#creating the features column\n",
        "feature_cols = [x for (x, dataType) in train.dtypes if x != 'HeartDiseaseorAttack']\n",
        "print(feature_cols)"
      ],
      "metadata": {
        "colab": {
          "base_uri": "https://localhost:8080/"
        },
        "id": "lITaqifxVmdE",
        "outputId": "b9669d81-67c5-4c18-927a-86762def9636"
      },
      "execution_count": null,
      "outputs": [
        {
          "output_type": "stream",
          "name": "stdout",
          "text": [
            "['HighBP', 'HighChol', 'BMI', 'Smoker', 'Stroke', 'Diabetes', 'Sex', 'Age']\n"
          ]
        }
      ]
    },
    {
      "cell_type": "code",
      "source": [
        "#creating a balanced weight column \n",
        "balancingRatio = train.filter(col('HeartDiseaseorAttack') == 1).count() / train.count()\n",
        "\n",
        "calculateWeights = udf(lambda x: 1 * balancingRatio if x == 0 else (1 * (1.0 - balancingRatio)), DoubleType())\n",
        "\n",
        "train = train.withColumn('classWeightCol', calculateWeights('HeartDiseaseorAttack'))"
      ],
      "metadata": {
        "id": "ZM06haG-m5vx"
      },
      "execution_count": null,
      "outputs": []
    },
    {
      "cell_type": "code",
      "source": [
        "train.show()"
      ],
      "metadata": {
        "colab": {
          "base_uri": "https://localhost:8080/"
        },
        "id": "gHGDtre8ppcP",
        "outputId": "9699267c-d3df-4b35-cea2-7a327d472507"
      },
      "execution_count": null,
      "outputs": [
        {
          "output_type": "stream",
          "name": "stdout",
          "text": [
            "+--------------------+------+--------+---+------+------+--------+---+---+-------------------+\n",
            "|HeartDiseaseorAttack|HighBP|HighChol|BMI|Smoker|Stroke|Diabetes|Sex|Age|     classWeightCol|\n",
            "+--------------------+------+--------+---+------+------+--------+---+---+-------------------+\n",
            "|                   0|     0|       0| 12|     0|     0|       0|  0|  7|0.09397471598610119|\n",
            "|                   0|     0|       0| 12|     0|     0|       0|  0| 13|0.09397471598610119|\n",
            "|                   0|     0|       0| 12|     0|     0|       0|  1|  9|0.09397471598610119|\n",
            "|                   0|     0|       0| 12|     1|     0|       0|  1|  6|0.09397471598610119|\n",
            "|                   0|     0|       0| 13|     0|     0|       0|  0|  6|0.09397471598610119|\n",
            "|                   0|     0|       0| 13|     0|     0|       0|  0|  7|0.09397471598610119|\n",
            "|                   0|     0|       0| 13|     0|     0|       0|  0|  9|0.09397471598610119|\n",
            "|                   0|     0|       0| 13|     0|     0|       0|  0| 11|0.09397471598610119|\n",
            "|                   0|     0|       0| 13|     0|     0|       0|  1|  2|0.09397471598610119|\n",
            "|                   0|     0|       0| 13|     0|     0|       0|  1|  4|0.09397471598610119|\n",
            "|                   0|     0|       0| 13|     1|     0|       0|  0|  7|0.09397471598610119|\n",
            "|                   0|     0|       0| 13|     1|     0|       0|  0|  8|0.09397471598610119|\n",
            "|                   0|     0|       0| 13|     1|     0|       0|  1|  5|0.09397471598610119|\n",
            "|                   0|     0|       0| 14|     0|     0|       0|  0|  8|0.09397471598610119|\n",
            "|                   0|     0|       0| 14|     0|     0|       0|  0| 12|0.09397471598610119|\n",
            "|                   0|     0|       0| 14|     0|     0|       0|  0| 13|0.09397471598610119|\n",
            "|                   0|     0|       0| 14|     0|     0|       0|  1|  1|0.09397471598610119|\n",
            "|                   0|     0|       0| 14|     0|     0|       0|  1|  1|0.09397471598610119|\n",
            "|                   0|     0|       0| 14|     0|     0|       0|  1|  2|0.09397471598610119|\n",
            "|                   0|     0|       0| 14|     0|     0|       0|  1|  4|0.09397471598610119|\n",
            "+--------------------+------+--------+---+------+------+--------+---+---+-------------------+\n",
            "only showing top 20 rows\n",
            "\n"
          ]
        }
      ]
    },
    {
      "cell_type": "code",
      "source": [
        "# using a pipeline\n",
        "vectorAssembler = VectorAssembler(inputCols=feature_cols, outputCol=\"unscaled_features\")\n",
        "standardScaler = StandardScaler(inputCol=\"unscaled_features\", outputCol=\"features\")\n",
        "\n",
        "lr = LogisticRegression(\n",
        "    maxIter=50,\n",
        "    featuresCol = \"features\",\n",
        "    labelCol = \"HeartDiseaseorAttack\",\n",
        "    weightCol='classWeightCol'\n",
        ")\n",
        "\n",
        "estimators = [vectorAssembler, standardScaler, lr]"
      ],
      "metadata": {
        "id": "JBGwweJeaP8y"
      },
      "execution_count": null,
      "outputs": []
    },
    {
      "cell_type": "code",
      "source": [
        "# building the model using the pipeline\n",
        "\n",
        "pipeline = Pipeline(stages=estimators)\n",
        "\n",
        "# model = pipeline.fit(train)"
      ],
      "metadata": {
        "id": "a51PsnsubTXH"
      },
      "execution_count": null,
      "outputs": []
    },
    {
      "cell_type": "code",
      "source": [
        "# paramgrid of 3x3 = 9 total models to itterate over\n",
        "\n",
        "paramGrid = ParamGridBuilder() \\\n",
        "    .addGrid(lr.elasticNetParam, [0.0, 0.5, 1.0] ) \\\n",
        "    .addGrid(lr.regParam, [0.1, 0.01, 0]) \\\n",
        "    .build()\n",
        "\n",
        "#trying 5 folds\n",
        "crossval = CrossValidator(estimator=pipeline,\n",
        "                          estimatorParamMaps=paramGrid,\n",
        "                          evaluator=BinaryClassificationEvaluator(labelCol='HeartDiseaseorAttack'),\n",
        "                          numFolds=5)  \n",
        "\n",
        "# Run cross-validation, and choose the best set of parameters.\n",
        "cvModel = crossval.fit(train)\n",
        "\n",
        "# cv model then uses the best model for predictions\n",
        "prediction = cvModel.transform(test)\n",
        "prediction_label = prediction.select(\"HeartDiseaseorAttack\", \"prediction\",\"probability\")"
      ],
      "metadata": {
        "id": "7O6NZh0wG8m5"
      },
      "execution_count": null,
      "outputs": []
    },
    {
      "cell_type": "code",
      "source": [
        "# evaluate the model\n",
        "eval = RegressionEvaluator(labelCol=\"HeartDiseaseorAttack\", predictionCol=\"prediction\", metricName=\"rmse\")\n",
        "\n",
        "# Root Mean Square Error\n",
        "rmse = eval.evaluate(prediction)\n",
        "print(\"RMSE: %.3f\" % rmse)\n",
        "\n",
        "# Mean Square Error\n",
        "mse = eval.evaluate(prediction, {eval.metricName: \"mse\"})\n",
        "print(\"MSE: %.3f\" % mse)\n",
        "\n",
        "# Mean Absolute Error\n",
        "mae = eval.evaluate(prediction, {eval.metricName: \"mae\"})\n",
        "print(\"MAE: %.3f\" % mae)\n",
        "\n",
        "# r2 - coefficient of determination\n",
        "r2 = eval.evaluate(prediction, {eval.metricName: \"r2\"})\n",
        "print(\"r2: %.3f\" %r2)"
      ],
      "metadata": {
        "colab": {
          "base_uri": "https://localhost:8080/"
        },
        "id": "VdgimI_vcM4p",
        "outputId": "d63c3ac9-daa1-4a40-c488-f0df890bfb3c"
      },
      "execution_count": null,
      "outputs": [
        {
          "output_type": "stream",
          "name": "stdout",
          "text": [
            "RMSE: 0.524\n",
            "MSE: 0.274\n",
            "MAE: 0.274\n",
            "r2: -2.190\n"
          ]
        }
      ]
    },
    {
      "cell_type": "code",
      "source": [
        "evaluator = MulticlassClassificationEvaluator(\n",
        "    labelCol=\"HeartDiseaseorAttack\", \n",
        "    predictionCol=\"prediction\"\n",
        ")\n",
        "\n",
        "# accuracy\n",
        "acc = evaluator.evaluate(prediction_label, {evaluator.metricName: \"accuracy\"})\n",
        "print(\"Accuracy: {:.3f}\".format(acc))\n",
        "\n",
        "#precision\n",
        "precision = evaluator.evaluate(prediction_label, {evaluator.metricName: \"weightedPrecision\"})\n",
        "print(\"Weighted Precision: {:.3f}\".format(precision))\n",
        "\n",
        "#recall\n",
        "recall = evaluator.evaluate(prediction_label, {evaluator.metricName: \"weightedRecall\"})\n",
        "print(\"Weighted Recall: {:.3f}\".format(recall))\n",
        "\n",
        "#f1 score\n",
        "f1 = evaluator.evaluate(prediction_label, {evaluator.metricName: \"f1\"})\n",
        "print(\"F1 Score: {:.3f}\".format(f1))\n",
        "\n",
        "#log loss score\n",
        "logloss = evaluator.evaluate(prediction_label, {evaluator.metricName: \"logLoss\"})\n",
        "print(\"Log Loss: {:.3f}\".format(logloss))"
      ],
      "metadata": {
        "colab": {
          "base_uri": "https://localhost:8080/"
        },
        "id": "cLMgUN8pdxs_",
        "outputId": "9adb334a-170b-4341-d10d-389dcae17f50"
      },
      "execution_count": null,
      "outputs": [
        {
          "output_type": "stream",
          "name": "stdout",
          "text": [
            "Accuracy: 0.726\n",
            "Weighted Precision: 0.896\n",
            "Weighted Recall: 0.726\n",
            "F1 Score: 0.781\n",
            "Log Loss: 0.531\n"
          ]
        }
      ]
    },
    {
      "cell_type": "code",
      "source": [
        "#Confusion matrix\n",
        "predlabel = prediction_label.toPandas()\n",
        "confusion_matrix = pd.crosstab(\n",
        "    predlabel[\"HeartDiseaseorAttack\"], \n",
        "    predlabel[\"prediction\"], \n",
        "    rownames=[\"Actual\"], \n",
        "    colnames=[\"Predicted\"]\n",
        ")\n",
        "confusion_matrix"
      ],
      "metadata": {
        "colab": {
          "base_uri": "https://localhost:8080/",
          "height": 235
        },
        "id": "4czEnui3rbPN",
        "outputId": "1a965db1-e192-4c62-8b99-58011e63ce86"
      },
      "execution_count": null,
      "outputs": [
        {
          "output_type": "error",
          "ename": "NameError",
          "evalue": "ignored",
          "traceback": [
            "\u001b[0;31m---------------------------------------------------------------------------\u001b[0m",
            "\u001b[0;31mNameError\u001b[0m                                 Traceback (most recent call last)",
            "\u001b[0;32m<ipython-input-1-a07ac0ca4483>\u001b[0m in \u001b[0;36m<module>\u001b[0;34m\u001b[0m\n\u001b[1;32m      1\u001b[0m \u001b[0;31m#Confusion matrix\u001b[0m\u001b[0;34m\u001b[0m\u001b[0;34m\u001b[0m\u001b[0;34m\u001b[0m\u001b[0m\n\u001b[0;32m----> 2\u001b[0;31m \u001b[0mpredlabel\u001b[0m \u001b[0;34m=\u001b[0m \u001b[0mprediction_label\u001b[0m\u001b[0;34m.\u001b[0m\u001b[0mtoPandas\u001b[0m\u001b[0;34m(\u001b[0m\u001b[0;34m)\u001b[0m\u001b[0;34m\u001b[0m\u001b[0;34m\u001b[0m\u001b[0m\n\u001b[0m\u001b[1;32m      3\u001b[0m confusion_matrix = pd.crosstab(\n\u001b[1;32m      4\u001b[0m     \u001b[0mpredlabel\u001b[0m\u001b[0;34m[\u001b[0m\u001b[0;34m\"HeartDiseaseorAttack\"\u001b[0m\u001b[0;34m]\u001b[0m\u001b[0;34m,\u001b[0m\u001b[0;34m\u001b[0m\u001b[0;34m\u001b[0m\u001b[0m\n\u001b[1;32m      5\u001b[0m     \u001b[0mpredlabel\u001b[0m\u001b[0;34m[\u001b[0m\u001b[0;34m\"prediction\"\u001b[0m\u001b[0;34m]\u001b[0m\u001b[0;34m,\u001b[0m\u001b[0;34m\u001b[0m\u001b[0;34m\u001b[0m\u001b[0m\n",
            "\u001b[0;31mNameError\u001b[0m: name 'prediction_label' is not defined"
          ]
        }
      ]
    },
    {
      "cell_type": "code",
      "source": [
        "TN = confusion_matrix[0][0]\n",
        "FN = confusion_matrix[0][1]\n",
        "TP = confusion_matrix[1][1]\n",
        "FP = confusion_matrix[1][0]\n",
        "sensitivity = TP / (TP + FN)\n",
        "specificity = TN / (TN + FP)\n",
        "print(\"Sensitivity: {:.3f}\\nSpecificity: {:.3f}\".format(sensitivity,specificity))"
      ],
      "metadata": {
        "colab": {
          "base_uri": "https://localhost:8080/"
        },
        "id": "OFXkgacOrjGK",
        "outputId": "e1ea86ec-9c4a-4df4-ee98-490c4aabd241"
      },
      "execution_count": null,
      "outputs": [
        {
          "output_type": "stream",
          "name": "stdout",
          "text": [
            "Sensitivity: 0.766\n",
            "Specificity: 0.721\n"
          ]
        }
      ]
    },
    {
      "cell_type": "code",
      "source": [
        "fig = sns.heatmap(confusion_matrix, annot=True, fmt='d')\n",
        "plt.show()\n",
        "plt.savefig(\"confusion_matrix.png\")"
      ],
      "metadata": {
        "colab": {
          "base_uri": "https://localhost:8080/",
          "height": 296
        },
        "id": "gDIDJxqH0kLX",
        "outputId": "e64aceac-5f92-41bf-872b-5e7f572139fb"
      },
      "execution_count": null,
      "outputs": [
        {
          "output_type": "display_data",
          "data": {
            "text/plain": [
              "<Figure size 432x288 with 2 Axes>"
            ],
            "image/png": "[encoded data removed]"
          },
          "metadata": {
            "needs_background": "light"
          }
        },
        {
          "output_type": "display_data",
          "data": {
            "text/plain": [
              "<Figure size 432x288 with 0 Axes>"
            ]
          },
          "metadata": {}
        }
      ]
    },
    {
      "cell_type": "code",
      "source": [
        "evaluator = BinaryClassificationEvaluator(labelCol='HeartDiseaseorAttack')\n",
        "\n",
        "# We have only two choices: area under ROC and PR curves :-(\n",
        "auroc = evaluator.evaluate(prediction, {evaluator.metricName: \"areaUnderROC\"})\n",
        "auprc = evaluator.evaluate(prediction, {evaluator.metricName: \"areaUnderPR\"})\n",
        "print(\"Area under ROC Curve: {:.4f}\".format(auroc))\n",
        "print(\"Area under PR Curve: {:.4f}\".format(auprc))"
      ],
      "metadata": {
        "colab": {
          "base_uri": "https://localhost:8080/"
        },
        "id": "QcseB6yu8Gsa",
        "outputId": "03898ee1-9927-4b10-c461-07477c8985b7"
      },
      "execution_count": null,
      "outputs": [
        {
          "output_type": "stream",
          "name": "stdout",
          "text": [
            "Area under ROC Curve: 0.8158\n",
            "Area under PR Curve: 0.3115\n"
          ]
        }
      ]
    },
    {
      "cell_type": "code",
      "source": [
        "bcm = BinaryClassificationMetrics(prediction, scoreCol='probability', labelCol='HeartDiseaseorAttack')\n",
        "\n",
        "#getting the curves and saving them\n",
        "fig, axs = plt.subplots(1, 2, figsize=(12, 4))\n",
        "bcm.plot_roc_curve(ax=axs[0])\n",
        "bcm.plot_pr_curve(ax=axs[1])"
      ],
      "metadata": {
        "colab": {
          "base_uri": "https://localhost:8080/",
          "height": 402
        },
        "id": "pJZzWOkU86RA",
        "outputId": "6ee3970b-5a38-425c-c0bc-c68244e35f97"
      },
      "execution_count": null,
      "outputs": [
        {
          "output_type": "stream",
          "name": "stderr",
          "text": [
            "/usr/local/lib/python3.7/dist-packages/pyspark/sql/context.py:159: FutureWarning: Deprecated in 3.0.0. Use SparkSession.builder.getOrCreate() instead.\n",
            "  FutureWarning,\n",
            "/usr/local/lib/python3.7/dist-packages/pyspark/sql/context.py:159: FutureWarning: Deprecated in 3.0.0. Use SparkSession.builder.getOrCreate() instead.\n",
            "  FutureWarning,\n"
          ]
        },
        {
          "output_type": "execute_result",
          "data": {
            "text/plain": [
              "<matplotlib.axes._subplots.AxesSubplot at 0x7f2096d4c2d0>"
            ]
          },
          "metadata": {},
          "execution_count": 128
        },
        {
          "output_type": "display_data",
          "data": {
            "text/plain": [
              "<Figure size 864x288 with 2 Axes>"
            ],
            "image/png": "[encoded data removed]"
          },
          "metadata": {
            "needs_background": "light"
          }
        }
      ]
    }
  ]
}