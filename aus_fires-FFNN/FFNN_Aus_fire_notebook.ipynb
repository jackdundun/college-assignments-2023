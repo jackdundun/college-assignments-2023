{
 "cells": [
  {
   "cell_type": "code",
   "execution_count": 1,
   "id": "40fabb4e",
   "metadata": {},
   "outputs": [],
   "source": [
    "import pandas as pd\n",
    "import seaborn as sb\n",
    "import numpy as np\n",
    "import matplotlib.pyplot as plt\n",
    "\n",
    "\n",
    "pd.set_option('display.max_rows', 500)"
   ]
  },
  {
   "cell_type": "code",
   "execution_count": 2,
   "id": "b934ea67",
   "metadata": {},
   "outputs": [],
   "source": [
    "from sklearn.preprocessing import OneHotEncoder\n",
    "from sklearn.compose import make_column_transformer\n",
    "from sklearn.pipeline import make_pipeline\n",
    "from sklearn.linear_model import LogisticRegression\n",
    "from sklearn.model_selection import cross_val_score\n",
    "from sklearn.model_selection import cross_val_score\n",
    "from sklearn.preprocessing import StandardScaler\n",
    "from sklearn.preprocessing import FunctionTransformer"
   ]
  },
  {
   "cell_type": "code",
   "execution_count": 3,
   "id": "d2d91e92",
   "metadata": {},
   "outputs": [],
   "source": [
    "from sklearn.metrics import recall_score\n",
    "from sklearn.metrics import confusion_matrix\n",
    "from sklearn.metrics import accuracy_score\n",
    "from sklearn.metrics import f1_score\n",
    "from sklearn.metrics import brier_score_loss\n",
    "from sklearn.metrics import classification_report\n",
    "from sklearn.metrics import plot_confusion_matrix"
   ]
  },
  {
   "cell_type": "code",
   "execution_count": 4,
   "id": "43d46d45",
   "metadata": {},
   "outputs": [
    {
     "data": {
      "text/plain": [
       "'2.3.0'"
      ]
     },
     "execution_count": 4,
     "metadata": {},
     "output_type": "execute_result"
    }
   ],
   "source": [
    "import tensorflow as tf\n",
    "import tensorflow.keras as keras\n",
    "\n",
    "tf.__version__"
   ]
  },
  {
   "cell_type": "code",
   "execution_count": 5,
   "id": "988f64e6",
   "metadata": {},
   "outputs": [
    {
     "name": "stderr",
     "output_type": "stream",
     "text": [
      "C:\\Users\\Jack Dunne\\anaconda3\\lib\\site-packages\\IPython\\core\\interactiveshell.py:3165: DtypeWarning: Columns (7) have mixed types.Specify dtype option on import or set low_memory=False.\n",
      "  has_raised = await self.run_ast_nodes(code_ast.body, cell_name,\n"
     ]
    }
   ],
   "source": [
    "file = r'C:\\Users\\ \\Desktop\\DMML2\\fireweather.csv'\n",
    "\n",
    "dataframe = pd.read_csv(file)"
   ]
  },
  {
   "cell_type": "code",
   "execution_count": 6,
   "id": "2ab0e595",
   "metadata": {},
   "outputs": [],
   "source": [
    "\n",
    "# creating a boolean fire variable\n",
    "dataframe[\"fire_size\"].fillna(\"nan\",inplace=True)\n",
    "def map_fire(fire_size):\n",
    "  if fire_size != 'nan':\n",
    "    return 1\n",
    "  else:\n",
    "    return 0\n",
    "\n",
    "dataframe['fire'] =  dataframe[\"fire_size\"].apply(lambda fire_size: map_fire(fire_size))\n",
    "\n",
    "\n",
    "# mapping months to the date variable\n",
    "months_list = ['01', '02', '03', '04', '05', '06', '07', '08', '09', '10', '11', '12' ]\n",
    "\n",
    "def map_month(month):\n",
    "    for i in months_list:\n",
    "        if month == i:\n",
    "            return i\n",
    "\n",
    "dataframe['months'] =  dataframe[\"date\"].str[5:7].apply(lambda month: map_month(month))"
   ]
  },
  {
   "cell_type": "code",
   "execution_count": 7,
   "id": "29028445",
   "metadata": {},
   "outputs": [],
   "source": [
    "columns_to_remove = [ 'latitude_fire', 'longitude_fire', 'frp', 'daynight', \n",
    "                     'region', 'name', 'stationID', 'brightness', 'scan', \n",
    "                     'track', 'acq_time', 'satellite', 'confidence', 'bright_t31', \n",
    "                     'type', 'Fire_number', 'date']\n",
    "\n",
    "dataframe.drop(columns_to_remove, axis=1, inplace=True)"
   ]
  },
  {
   "cell_type": "code",
   "execution_count": 8,
   "id": "b30fa900",
   "metadata": {},
   "outputs": [
    {
     "data": {
      "text/html": [
       "<div>\n",
       "<style scoped>\n",
       "    .dataframe tbody tr th:only-of-type {\n",
       "        vertical-align: middle;\n",
       "    }\n",
       "\n",
       "    .dataframe tbody tr th {\n",
       "        vertical-align: top;\n",
       "    }\n",
       "\n",
       "    .dataframe thead th {\n",
       "        text-align: right;\n",
       "    }\n",
       "</style>\n",
       "<table border=\"1\" class=\"dataframe\">\n",
       "  <thead>\n",
       "    <tr style=\"text-align: right;\">\n",
       "      <th></th>\n",
       "      <th>tavg</th>\n",
       "      <th>tmin</th>\n",
       "      <th>tmax</th>\n",
       "      <th>prcp</th>\n",
       "      <th>wdir</th>\n",
       "      <th>wspd</th>\n",
       "      <th>pres</th>\n",
       "      <th>latitude_weather</th>\n",
       "      <th>longitude_weather</th>\n",
       "      <th>elevation</th>\n",
       "      <th>dslr</th>\n",
       "      <th>fire_size</th>\n",
       "      <th>fire_size_bin</th>\n",
       "      <th>fire</th>\n",
       "      <th>months</th>\n",
       "    </tr>\n",
       "  </thead>\n",
       "  <tbody>\n",
       "    <tr>\n",
       "      <th>0</th>\n",
       "      <td>29.4</td>\n",
       "      <td>22.8</td>\n",
       "      <td>36.8</td>\n",
       "      <td>31.2</td>\n",
       "      <td>177.6</td>\n",
       "      <td>14.0</td>\n",
       "      <td>1015.1</td>\n",
       "      <td>-14.3000</td>\n",
       "      <td>126.600</td>\n",
       "      <td>29.0</td>\n",
       "      <td>0</td>\n",
       "      <td>nan</td>\n",
       "      <td>NaN</td>\n",
       "      <td>0</td>\n",
       "      <td>01</td>\n",
       "    </tr>\n",
       "    <tr>\n",
       "      <th>1</th>\n",
       "      <td>29.7</td>\n",
       "      <td>24.3</td>\n",
       "      <td>37.2</td>\n",
       "      <td>0.0</td>\n",
       "      <td>177.6</td>\n",
       "      <td>14.0</td>\n",
       "      <td>1015.1</td>\n",
       "      <td>-14.3000</td>\n",
       "      <td>126.600</td>\n",
       "      <td>29.0</td>\n",
       "      <td>1</td>\n",
       "      <td>nan</td>\n",
       "      <td>NaN</td>\n",
       "      <td>0</td>\n",
       "      <td>01</td>\n",
       "    </tr>\n",
       "    <tr>\n",
       "      <th>2</th>\n",
       "      <td>29.5</td>\n",
       "      <td>25.4</td>\n",
       "      <td>37.0</td>\n",
       "      <td>0.4</td>\n",
       "      <td>254.0</td>\n",
       "      <td>12.2</td>\n",
       "      <td>1004.3</td>\n",
       "      <td>-14.3000</td>\n",
       "      <td>126.600</td>\n",
       "      <td>29.0</td>\n",
       "      <td>2</td>\n",
       "      <td>nan</td>\n",
       "      <td>NaN</td>\n",
       "      <td>0</td>\n",
       "      <td>01</td>\n",
       "    </tr>\n",
       "    <tr>\n",
       "      <th>3</th>\n",
       "      <td>29.4</td>\n",
       "      <td>23.4</td>\n",
       "      <td>35.1</td>\n",
       "      <td>33.8</td>\n",
       "      <td>266.0</td>\n",
       "      <td>15.0</td>\n",
       "      <td>1004.2</td>\n",
       "      <td>-14.3000</td>\n",
       "      <td>126.600</td>\n",
       "      <td>29.0</td>\n",
       "      <td>0</td>\n",
       "      <td>nan</td>\n",
       "      <td>NaN</td>\n",
       "      <td>0</td>\n",
       "      <td>01</td>\n",
       "    </tr>\n",
       "    <tr>\n",
       "      <th>4</th>\n",
       "      <td>28.6</td>\n",
       "      <td>21.2</td>\n",
       "      <td>33.0</td>\n",
       "      <td>14.0</td>\n",
       "      <td>268.0</td>\n",
       "      <td>11.8</td>\n",
       "      <td>1005.2</td>\n",
       "      <td>-14.3000</td>\n",
       "      <td>126.600</td>\n",
       "      <td>29.0</td>\n",
       "      <td>0</td>\n",
       "      <td>nan</td>\n",
       "      <td>NaN</td>\n",
       "      <td>0</td>\n",
       "      <td>01</td>\n",
       "    </tr>\n",
       "    <tr>\n",
       "      <th>...</th>\n",
       "      <td>...</td>\n",
       "      <td>...</td>\n",
       "      <td>...</td>\n",
       "      <td>...</td>\n",
       "      <td>...</td>\n",
       "      <td>...</td>\n",
       "      <td>...</td>\n",
       "      <td>...</td>\n",
       "      <td>...</td>\n",
       "      <td>...</td>\n",
       "      <td>...</td>\n",
       "      <td>...</td>\n",
       "      <td>...</td>\n",
       "      <td>...</td>\n",
       "      <td>...</td>\n",
       "    </tr>\n",
       "    <tr>\n",
       "      <th>254514</th>\n",
       "      <td>15.6</td>\n",
       "      <td>11.1</td>\n",
       "      <td>22.4</td>\n",
       "      <td>0.0</td>\n",
       "      <td>163.0</td>\n",
       "      <td>31.1</td>\n",
       "      <td>1019.7</td>\n",
       "      <td>-37.0717</td>\n",
       "      <td>142.741</td>\n",
       "      <td>246.0</td>\n",
       "      <td>8</td>\n",
       "      <td>nan</td>\n",
       "      <td>NaN</td>\n",
       "      <td>0</td>\n",
       "      <td>12</td>\n",
       "    </tr>\n",
       "    <tr>\n",
       "      <th>254515</th>\n",
       "      <td>18.8</td>\n",
       "      <td>11.1</td>\n",
       "      <td>27.6</td>\n",
       "      <td>0.0</td>\n",
       "      <td>166.0</td>\n",
       "      <td>18.7</td>\n",
       "      <td>1017.8</td>\n",
       "      <td>-37.0717</td>\n",
       "      <td>142.741</td>\n",
       "      <td>246.0</td>\n",
       "      <td>9</td>\n",
       "      <td>nan</td>\n",
       "      <td>NaN</td>\n",
       "      <td>0</td>\n",
       "      <td>12</td>\n",
       "    </tr>\n",
       "    <tr>\n",
       "      <th>254516</th>\n",
       "      <td>20.4</td>\n",
       "      <td>10.8</td>\n",
       "      <td>30.3</td>\n",
       "      <td>0.0</td>\n",
       "      <td>190.0</td>\n",
       "      <td>11.4</td>\n",
       "      <td>1015.9</td>\n",
       "      <td>-37.0717</td>\n",
       "      <td>142.741</td>\n",
       "      <td>246.0</td>\n",
       "      <td>10</td>\n",
       "      <td>nan</td>\n",
       "      <td>NaN</td>\n",
       "      <td>0</td>\n",
       "      <td>12</td>\n",
       "    </tr>\n",
       "    <tr>\n",
       "      <th>254517</th>\n",
       "      <td>24.3</td>\n",
       "      <td>11.5</td>\n",
       "      <td>35.0</td>\n",
       "      <td>0.0</td>\n",
       "      <td>257.0</td>\n",
       "      <td>9.8</td>\n",
       "      <td>1012.4</td>\n",
       "      <td>-37.0717</td>\n",
       "      <td>142.741</td>\n",
       "      <td>246.0</td>\n",
       "      <td>11</td>\n",
       "      <td>nan</td>\n",
       "      <td>NaN</td>\n",
       "      <td>0</td>\n",
       "      <td>12</td>\n",
       "    </tr>\n",
       "    <tr>\n",
       "      <th>254518</th>\n",
       "      <td>28.2</td>\n",
       "      <td>16.1</td>\n",
       "      <td>37.6</td>\n",
       "      <td>0.0</td>\n",
       "      <td>7.0</td>\n",
       "      <td>14.2</td>\n",
       "      <td>1008.5</td>\n",
       "      <td>-37.0717</td>\n",
       "      <td>142.741</td>\n",
       "      <td>246.0</td>\n",
       "      <td>12</td>\n",
       "      <td>nan</td>\n",
       "      <td>NaN</td>\n",
       "      <td>0</td>\n",
       "      <td>12</td>\n",
       "    </tr>\n",
       "  </tbody>\n",
       "</table>\n",
       "<p>254519 rows × 15 columns</p>\n",
       "</div>"
      ],
      "text/plain": [
       "        tavg  tmin  tmax  prcp   wdir  wspd    pres  latitude_weather  \\\n",
       "0       29.4  22.8  36.8  31.2  177.6  14.0  1015.1          -14.3000   \n",
       "1       29.7  24.3  37.2   0.0  177.6  14.0  1015.1          -14.3000   \n",
       "2       29.5  25.4  37.0   0.4  254.0  12.2  1004.3          -14.3000   \n",
       "3       29.4  23.4  35.1  33.8  266.0  15.0  1004.2          -14.3000   \n",
       "4       28.6  21.2  33.0  14.0  268.0  11.8  1005.2          -14.3000   \n",
       "...      ...   ...   ...   ...    ...   ...     ...               ...   \n",
       "254514  15.6  11.1  22.4   0.0  163.0  31.1  1019.7          -37.0717   \n",
       "254515  18.8  11.1  27.6   0.0  166.0  18.7  1017.8          -37.0717   \n",
       "254516  20.4  10.8  30.3   0.0  190.0  11.4  1015.9          -37.0717   \n",
       "254517  24.3  11.5  35.0   0.0  257.0   9.8  1012.4          -37.0717   \n",
       "254518  28.2  16.1  37.6   0.0    7.0  14.2  1008.5          -37.0717   \n",
       "\n",
       "        longitude_weather  elevation  dslr fire_size fire_size_bin  fire  \\\n",
       "0                 126.600       29.0     0       nan           NaN     0   \n",
       "1                 126.600       29.0     1       nan           NaN     0   \n",
       "2                 126.600       29.0     2       nan           NaN     0   \n",
       "3                 126.600       29.0     0       nan           NaN     0   \n",
       "4                 126.600       29.0     0       nan           NaN     0   \n",
       "...                   ...        ...   ...       ...           ...   ...   \n",
       "254514            142.741      246.0     8       nan           NaN     0   \n",
       "254515            142.741      246.0     9       nan           NaN     0   \n",
       "254516            142.741      246.0    10       nan           NaN     0   \n",
       "254517            142.741      246.0    11       nan           NaN     0   \n",
       "254518            142.741      246.0    12       nan           NaN     0   \n",
       "\n",
       "       months  \n",
       "0          01  \n",
       "1          01  \n",
       "2          01  \n",
       "3          01  \n",
       "4          01  \n",
       "...       ...  \n",
       "254514     12  \n",
       "254515     12  \n",
       "254516     12  \n",
       "254517     12  \n",
       "254518     12  \n",
       "\n",
       "[254519 rows x 15 columns]"
      ]
     },
     "execution_count": 8,
     "metadata": {},
     "output_type": "execute_result"
    }
   ],
   "source": [
    "dataframe"
   ]
  },
  {
   "cell_type": "markdown",
   "id": "21f377c6",
   "metadata": {},
   "source": [
    "## Training/Testing Models"
   ]
  },
  {
   "cell_type": "code",
   "execution_count": 9,
   "id": "5de56a05",
   "metadata": {},
   "outputs": [
    {
     "data": {
      "text/plain": [
       "Index(['tavg', 'tmin', 'tmax', 'prcp', 'wdir', 'wspd', 'pres',\n",
       "       'latitude_weather', 'longitude_weather', 'elevation', 'dslr',\n",
       "       'fire_size', 'fire_size_bin', 'fire', 'months'],\n",
       "      dtype='object')"
      ]
     },
     "execution_count": 9,
     "metadata": {},
     "output_type": "execute_result"
    }
   ],
   "source": [
    "dataframe.columns"
   ]
  },
  {
   "cell_type": "code",
   "execution_count": 10,
   "id": "fa202345",
   "metadata": {},
   "outputs": [],
   "source": [
    "fire_preds = ['tavg', 'tmin', 'tmax', 'prcp', 'wdir', 'wspd', 'pres',\n",
    "       'latitude_weather', 'longitude_weather', 'elevation', 'dslr', 'months', 'fire']\n",
    "\n",
    "\n",
    "subset = ['tavg', 'tmin', 'tmax', 'prcp', 'wdir', 'wspd', 'pres',\n",
    "       'latitude_weather', 'longitude_weather', 'elevation', 'dslr', 'months']\n",
    "\n",
    "numerical_features = ['tavg', 'tmin', 'tmax', 'prcp', 'wdir', 'wspd', 'pres',\n",
    "       'latitude_weather', 'longitude_weather', 'elevation', 'dslr']\n",
    "\n",
    "\n",
    "train_test_df = dataframe[fire_preds]\n",
    "train_test_df = train_test_df.dropna()\n",
    "\n",
    "sample_df = train_test_df.sample(frac=1, random_state=1)\n",
    "\n",
    "X = sample_df[subset]\n",
    "y = sample_df['fire']\n"
   ]
  },
  {
   "cell_type": "markdown",
   "id": "0f6ab682",
   "metadata": {},
   "source": [
    "#### Fixing Class imbalance - Undersampling"
   ]
  },
  {
   "cell_type": "code",
   "execution_count": 11,
   "id": "e68b477a",
   "metadata": {},
   "outputs": [
    {
     "data": {
      "image/png": "[encoded data removed]",
      "text/plain": [
       "<Figure size 432x288 with 1 Axes>"
      ]
     },
     "metadata": {},
     "output_type": "display_data"
    }
   ],
   "source": [
    "from imblearn.under_sampling import RandomUnderSampler\n",
    "\n",
    "\n",
    "rus = RandomUnderSampler(sampling_strategy=1) # Numerical value\n",
    "X_res, y_res = rus.fit_resample(X, y)\n",
    "\n",
    "ax = y_res.value_counts().plot.pie(autopct='%.2f')\n",
    "_ = ax.set_title(\"Under-sampling\")"
   ]
  },
  {
   "cell_type": "code",
   "execution_count": 12,
   "id": "a8995c00",
   "metadata": {},
   "outputs": [
    {
     "data": {
      "text/plain": [
       "0    22094\n",
       "1    22094\n",
       "Name: fire, dtype: int64"
      ]
     },
     "execution_count": 12,
     "metadata": {},
     "output_type": "execute_result"
    }
   ],
   "source": [
    "y_res.value_counts()"
   ]
  },
  {
   "cell_type": "code",
   "execution_count": 13,
   "id": "6af41e05",
   "metadata": {},
   "outputs": [
    {
     "data": {
      "text/html": [
       "<div>\n",
       "<style scoped>\n",
       "    .dataframe tbody tr th:only-of-type {\n",
       "        vertical-align: middle;\n",
       "    }\n",
       "\n",
       "    .dataframe tbody tr th {\n",
       "        vertical-align: top;\n",
       "    }\n",
       "\n",
       "    .dataframe thead th {\n",
       "        text-align: right;\n",
       "    }\n",
       "</style>\n",
       "<table border=\"1\" class=\"dataframe\">\n",
       "  <thead>\n",
       "    <tr style=\"text-align: right;\">\n",
       "      <th></th>\n",
       "      <th>tavg</th>\n",
       "      <th>tmin</th>\n",
       "      <th>tmax</th>\n",
       "      <th>prcp</th>\n",
       "      <th>wdir</th>\n",
       "      <th>wspd</th>\n",
       "      <th>pres</th>\n",
       "      <th>latitude_weather</th>\n",
       "      <th>longitude_weather</th>\n",
       "      <th>elevation</th>\n",
       "      <th>dslr</th>\n",
       "      <th>months</th>\n",
       "      <th>fire</th>\n",
       "    </tr>\n",
       "  </thead>\n",
       "  <tbody>\n",
       "    <tr>\n",
       "      <th>0</th>\n",
       "      <td>27.6</td>\n",
       "      <td>23.0</td>\n",
       "      <td>31.4</td>\n",
       "      <td>0.0</td>\n",
       "      <td>346.0</td>\n",
       "      <td>17.9</td>\n",
       "      <td>1010.6</td>\n",
       "      <td>-17.7333</td>\n",
       "      <td>139.5333</td>\n",
       "      <td>6.0</td>\n",
       "      <td>38</td>\n",
       "      <td>09</td>\n",
       "      <td>0</td>\n",
       "    </tr>\n",
       "    <tr>\n",
       "      <th>1</th>\n",
       "      <td>22.6</td>\n",
       "      <td>22.5</td>\n",
       "      <td>25.2</td>\n",
       "      <td>3.4</td>\n",
       "      <td>341.0</td>\n",
       "      <td>17.1</td>\n",
       "      <td>1008.8</td>\n",
       "      <td>-25.3000</td>\n",
       "      <td>152.9000</td>\n",
       "      <td>18.0</td>\n",
       "      <td>0</td>\n",
       "      <td>10</td>\n",
       "      <td>0</td>\n",
       "    </tr>\n",
       "    <tr>\n",
       "      <th>2</th>\n",
       "      <td>21.4</td>\n",
       "      <td>10.3</td>\n",
       "      <td>33.0</td>\n",
       "      <td>0.0</td>\n",
       "      <td>63.0</td>\n",
       "      <td>14.9</td>\n",
       "      <td>1013.8</td>\n",
       "      <td>-33.0000</td>\n",
       "      <td>121.6000</td>\n",
       "      <td>249.0</td>\n",
       "      <td>11</td>\n",
       "      <td>01</td>\n",
       "      <td>0</td>\n",
       "    </tr>\n",
       "    <tr>\n",
       "      <th>3</th>\n",
       "      <td>11.8</td>\n",
       "      <td>6.9</td>\n",
       "      <td>18.0</td>\n",
       "      <td>0.0</td>\n",
       "      <td>58.0</td>\n",
       "      <td>7.7</td>\n",
       "      <td>1024.7</td>\n",
       "      <td>-32.0975</td>\n",
       "      <td>115.8810</td>\n",
       "      <td>30.0</td>\n",
       "      <td>1</td>\n",
       "      <td>07</td>\n",
       "      <td>0</td>\n",
       "    </tr>\n",
       "    <tr>\n",
       "      <th>4</th>\n",
       "      <td>21.9</td>\n",
       "      <td>20.9</td>\n",
       "      <td>24.5</td>\n",
       "      <td>0.0</td>\n",
       "      <td>129.0</td>\n",
       "      <td>12.3</td>\n",
       "      <td>1017.2</td>\n",
       "      <td>-23.5000</td>\n",
       "      <td>151.3000</td>\n",
       "      <td>20.0</td>\n",
       "      <td>1</td>\n",
       "      <td>04</td>\n",
       "      <td>0</td>\n",
       "    </tr>\n",
       "    <tr>\n",
       "      <th>...</th>\n",
       "      <td>...</td>\n",
       "      <td>...</td>\n",
       "      <td>...</td>\n",
       "      <td>...</td>\n",
       "      <td>...</td>\n",
       "      <td>...</td>\n",
       "      <td>...</td>\n",
       "      <td>...</td>\n",
       "      <td>...</td>\n",
       "      <td>...</td>\n",
       "      <td>...</td>\n",
       "      <td>...</td>\n",
       "      <td>...</td>\n",
       "    </tr>\n",
       "    <tr>\n",
       "      <th>44183</th>\n",
       "      <td>24.3</td>\n",
       "      <td>18.1</td>\n",
       "      <td>31.7</td>\n",
       "      <td>0.0</td>\n",
       "      <td>111.0</td>\n",
       "      <td>8.8</td>\n",
       "      <td>1012.5</td>\n",
       "      <td>-12.7000</td>\n",
       "      <td>132.9000</td>\n",
       "      <td>26.0</td>\n",
       "      <td>10</td>\n",
       "      <td>06</td>\n",
       "      <td>1</td>\n",
       "    </tr>\n",
       "    <tr>\n",
       "      <th>44184</th>\n",
       "      <td>15.1</td>\n",
       "      <td>6.9</td>\n",
       "      <td>23.0</td>\n",
       "      <td>0.0</td>\n",
       "      <td>194.0</td>\n",
       "      <td>8.1</td>\n",
       "      <td>1020.5</td>\n",
       "      <td>-31.0000</td>\n",
       "      <td>148.4000</td>\n",
       "      <td>184.0</td>\n",
       "      <td>1</td>\n",
       "      <td>04</td>\n",
       "      <td>1</td>\n",
       "    </tr>\n",
       "    <tr>\n",
       "      <th>44185</th>\n",
       "      <td>16.9</td>\n",
       "      <td>13.0</td>\n",
       "      <td>22.4</td>\n",
       "      <td>0.0</td>\n",
       "      <td>68.0</td>\n",
       "      <td>12.7</td>\n",
       "      <td>1026.7</td>\n",
       "      <td>-32.7167</td>\n",
       "      <td>148.1833</td>\n",
       "      <td>267.0</td>\n",
       "      <td>21</td>\n",
       "      <td>05</td>\n",
       "      <td>1</td>\n",
       "    </tr>\n",
       "    <tr>\n",
       "      <th>44186</th>\n",
       "      <td>15.6</td>\n",
       "      <td>8.3</td>\n",
       "      <td>20.8</td>\n",
       "      <td>0.0</td>\n",
       "      <td>180.0</td>\n",
       "      <td>11.0</td>\n",
       "      <td>1023.2</td>\n",
       "      <td>-34.2000</td>\n",
       "      <td>142.1000</td>\n",
       "      <td>50.0</td>\n",
       "      <td>33</td>\n",
       "      <td>04</td>\n",
       "      <td>1</td>\n",
       "    </tr>\n",
       "    <tr>\n",
       "      <th>44187</th>\n",
       "      <td>29.4</td>\n",
       "      <td>26.9</td>\n",
       "      <td>36.0</td>\n",
       "      <td>0.0</td>\n",
       "      <td>341.0</td>\n",
       "      <td>9.9</td>\n",
       "      <td>1010.5</td>\n",
       "      <td>-14.2000</td>\n",
       "      <td>129.5000</td>\n",
       "      <td>28.0</td>\n",
       "      <td>5</td>\n",
       "      <td>11</td>\n",
       "      <td>1</td>\n",
       "    </tr>\n",
       "  </tbody>\n",
       "</table>\n",
       "<p>44188 rows × 13 columns</p>\n",
       "</div>"
      ],
      "text/plain": [
       "       tavg  tmin  tmax  prcp   wdir  wspd    pres  latitude_weather  \\\n",
       "0      27.6  23.0  31.4   0.0  346.0  17.9  1010.6          -17.7333   \n",
       "1      22.6  22.5  25.2   3.4  341.0  17.1  1008.8          -25.3000   \n",
       "2      21.4  10.3  33.0   0.0   63.0  14.9  1013.8          -33.0000   \n",
       "3      11.8   6.9  18.0   0.0   58.0   7.7  1024.7          -32.0975   \n",
       "4      21.9  20.9  24.5   0.0  129.0  12.3  1017.2          -23.5000   \n",
       "...     ...   ...   ...   ...    ...   ...     ...               ...   \n",
       "44183  24.3  18.1  31.7   0.0  111.0   8.8  1012.5          -12.7000   \n",
       "44184  15.1   6.9  23.0   0.0  194.0   8.1  1020.5          -31.0000   \n",
       "44185  16.9  13.0  22.4   0.0   68.0  12.7  1026.7          -32.7167   \n",
       "44186  15.6   8.3  20.8   0.0  180.0  11.0  1023.2          -34.2000   \n",
       "44187  29.4  26.9  36.0   0.0  341.0   9.9  1010.5          -14.2000   \n",
       "\n",
       "       longitude_weather  elevation  dslr months  fire  \n",
       "0               139.5333        6.0    38     09     0  \n",
       "1               152.9000       18.0     0     10     0  \n",
       "2               121.6000      249.0    11     01     0  \n",
       "3               115.8810       30.0     1     07     0  \n",
       "4               151.3000       20.0     1     04     0  \n",
       "...                  ...        ...   ...    ...   ...  \n",
       "44183           132.9000       26.0    10     06     1  \n",
       "44184           148.4000      184.0     1     04     1  \n",
       "44185           148.1833      267.0    21     05     1  \n",
       "44186           142.1000       50.0    33     04     1  \n",
       "44187           129.5000       28.0     5     11     1  \n",
       "\n",
       "[44188 rows x 13 columns]"
      ]
     },
     "execution_count": 13,
     "metadata": {},
     "output_type": "execute_result"
    }
   ],
   "source": [
    "dataframe = X_res.join(y_res)\n",
    "dataframe"
   ]
  },
  {
   "cell_type": "markdown",
   "id": "002bbfd6",
   "metadata": {},
   "source": [
    "### splitting into test train val"
   ]
  },
  {
   "cell_type": "code",
   "execution_count": 14,
   "id": "af393d4a",
   "metadata": {},
   "outputs": [],
   "source": [
    "train, val, test = np.split(dataframe.sample(frac=1), [int(0.70*len(dataframe)), int(0.80*len(dataframe))])"
   ]
  },
  {
   "cell_type": "code",
   "execution_count": 15,
   "id": "07646aac",
   "metadata": {},
   "outputs": [
    {
     "name": "stdout",
     "output_type": "stream",
     "text": [
      "30931 training examples\n",
      "4419 validation examples\n",
      "8838 test examples\n"
     ]
    }
   ],
   "source": [
    "print(len(train), 'training examples')\n",
    "print(len(val), 'validation examples')\n",
    "print(len(test), 'test examples')"
   ]
  },
  {
   "cell_type": "code",
   "execution_count": 16,
   "id": "fe025416",
   "metadata": {},
   "outputs": [],
   "source": [
    "def df_to_dataset(dataframe, shuffle=True, batch_size=32):\n",
    "  df = dataframe.copy()\n",
    "  labels = df.pop('fire')\n",
    "  df = {key: value[:,tf.newaxis] for key, value in dataframe.items()}\n",
    "  ds = tf.data.Dataset.from_tensor_slices((dict(df), labels))\n",
    "  if shuffle:\n",
    "    ds = ds.shuffle(buffer_size=len(dataframe))\n",
    "  ds = ds.batch(batch_size)\n",
    "  ds = ds.prefetch(batch_size)\n",
    "  return ds"
   ]
  },
  {
   "cell_type": "code",
   "execution_count": 17,
   "id": "672c188e",
   "metadata": {},
   "outputs": [
    {
     "name": "stderr",
     "output_type": "stream",
     "text": [
      "<ipython-input-16-fed0a3667602>:4: FutureWarning: Support for multi-dimensional indexing (e.g. `obj[:, None]`) is deprecated and will be removed in a future version.  Convert to a numpy array before indexing instead.\n",
      "  df = {key: value[:,tf.newaxis] for key, value in dataframe.items()}\n"
     ]
    }
   ],
   "source": [
    "batch_size = 5\n",
    "train_ds = df_to_dataset(train, batch_size=batch_size)"
   ]
  },
  {
   "cell_type": "code",
   "execution_count": 18,
   "id": "66bb339a",
   "metadata": {},
   "outputs": [
    {
     "name": "stdout",
     "output_type": "stream",
     "text": [
      "Every feature: ['tavg', 'tmin', 'tmax', 'prcp', 'wdir', 'wspd', 'pres', 'latitude_weather', 'longitude_weather', 'elevation', 'dslr', 'months', 'fire']\n",
      "A batch of months: tf.Tensor(\n",
      "[[b'05']\n",
      " [b'08']\n",
      " [b'06']\n",
      " [b'12']\n",
      " [b'01']], shape=(5, 1), dtype=string)\n",
      "A batch of targets: tf.Tensor([1 0 0 0 0], shape=(5,), dtype=int64)\n"
     ]
    }
   ],
   "source": [
    "[(train_features, label_batch)] = train_ds.take(1)\n",
    "print('Every feature:', list(train_features.keys()))\n",
    "print('A batch of months:', train_features['months'])\n",
    "print('A batch of targets:', label_batch )"
   ]
  },
  {
   "cell_type": "code",
   "execution_count": 19,
   "id": "010c3de2",
   "metadata": {},
   "outputs": [],
   "source": [
    "from tensorflow.keras import layers\n",
    "\n",
    "def get_normalization_layer(name, dataset):\n",
    "  # Create a Normalization layer for the feature.\n",
    "  normalizer = layers.Normalization(axis=None)\n",
    "\n",
    "  # Prepare a Dataset that only yields the feature.\n",
    "  feature_ds = dataset.map(lambda x, y: x[name])\n",
    "\n",
    "  # Learn the statistics of the data.\n",
    "  normalizer.adapt(feature_ds)\n",
    "\n",
    "  return normalizer"
   ]
  },
  {
   "cell_type": "code",
   "execution_count": 20,
   "id": "77eebe9f",
   "metadata": {},
   "outputs": [
    {
     "ename": "AttributeError",
     "evalue": "module 'tensorflow.keras.layers' has no attribute 'Normalization'",
     "output_type": "error",
     "traceback": [
      "\u001b[1;31m---------------------------------------------------------------------------\u001b[0m",
      "\u001b[1;31mAttributeError\u001b[0m                            Traceback (most recent call last)",
      "\u001b[1;32m<ipython-input-20-a5a30b6aafc4>\u001b[0m in \u001b[0;36m<module>\u001b[1;34m\u001b[0m\n\u001b[0;32m      1\u001b[0m \u001b[0mphoto_count_col\u001b[0m \u001b[1;33m=\u001b[0m \u001b[0mtrain_features\u001b[0m\u001b[1;33m[\u001b[0m\u001b[1;34m'wdir'\u001b[0m\u001b[1;33m]\u001b[0m\u001b[1;33m\u001b[0m\u001b[1;33m\u001b[0m\u001b[0m\n\u001b[1;32m----> 2\u001b[1;33m \u001b[0mlayer\u001b[0m \u001b[1;33m=\u001b[0m \u001b[0mget_normalization_layer\u001b[0m\u001b[1;33m(\u001b[0m\u001b[1;34m'wdir'\u001b[0m\u001b[1;33m,\u001b[0m \u001b[0mtrain_ds\u001b[0m\u001b[1;33m)\u001b[0m\u001b[1;33m\u001b[0m\u001b[1;33m\u001b[0m\u001b[0m\n\u001b[0m\u001b[0;32m      3\u001b[0m \u001b[0mlayer\u001b[0m\u001b[1;33m(\u001b[0m\u001b[0mphoto_count_col\u001b[0m\u001b[1;33m)\u001b[0m\u001b[1;33m\u001b[0m\u001b[1;33m\u001b[0m\u001b[0m\n",
      "\u001b[1;32m<ipython-input-19-2d93cb55d0e7>\u001b[0m in \u001b[0;36mget_normalization_layer\u001b[1;34m(name, dataset)\u001b[0m\n\u001b[0;32m      3\u001b[0m \u001b[1;32mdef\u001b[0m \u001b[0mget_normalization_layer\u001b[0m\u001b[1;33m(\u001b[0m\u001b[0mname\u001b[0m\u001b[1;33m,\u001b[0m \u001b[0mdataset\u001b[0m\u001b[1;33m)\u001b[0m\u001b[1;33m:\u001b[0m\u001b[1;33m\u001b[0m\u001b[1;33m\u001b[0m\u001b[0m\n\u001b[0;32m      4\u001b[0m   \u001b[1;31m# Create a Normalization layer for the feature.\u001b[0m\u001b[1;33m\u001b[0m\u001b[1;33m\u001b[0m\u001b[1;33m\u001b[0m\u001b[0m\n\u001b[1;32m----> 5\u001b[1;33m   \u001b[0mnormalizer\u001b[0m \u001b[1;33m=\u001b[0m \u001b[0mlayers\u001b[0m\u001b[1;33m.\u001b[0m\u001b[0mNormalization\u001b[0m\u001b[1;33m(\u001b[0m\u001b[0maxis\u001b[0m\u001b[1;33m=\u001b[0m\u001b[1;32mNone\u001b[0m\u001b[1;33m)\u001b[0m\u001b[1;33m\u001b[0m\u001b[1;33m\u001b[0m\u001b[0m\n\u001b[0m\u001b[0;32m      6\u001b[0m \u001b[1;33m\u001b[0m\u001b[0m\n\u001b[0;32m      7\u001b[0m   \u001b[1;31m# Prepare a Dataset that only yields the feature.\u001b[0m\u001b[1;33m\u001b[0m\u001b[1;33m\u001b[0m\u001b[1;33m\u001b[0m\u001b[0m\n",
      "\u001b[1;31mAttributeError\u001b[0m: module 'tensorflow.keras.layers' has no attribute 'Normalization'"
     ]
    }
   ],
   "source": [
    "photo_count_col = train_features['wdir']\n",
    "layer = get_normalization_layer('wdir', train_ds)\n",
    "layer(photo_count_col)"
   ]
  },
  {
   "cell_type": "code",
   "execution_count": null,
   "id": "a28ddca3",
   "metadata": {},
   "outputs": [],
   "source": [
    "def get_category_encoding_layer(name, dataset, dtype, max_tokens=None):\n",
    "  # Create a layer that turns strings into integer indices.\n",
    "  if dtype == 'string':\n",
    "    index = layers.StringLookup(max_tokens=max_tokens)\n",
    "  # Otherwise, create a layer that turns integer values into integer indices.\n",
    "  else:\n",
    "    index = layers.IntegerLookup(max_tokens=max_tokens)\n",
    "\n",
    "  # Prepare a `tf.data.Dataset` that only yields the feature.\n",
    "  feature_ds = dataset.map(lambda x, y: x[name])\n",
    "\n",
    "  # Learn the set of possible values and assign them a fixed integer index.\n",
    "  index.adapt(feature_ds)\n",
    "\n",
    "  # Encode the integer indices.\n",
    "  encoder = layers.CategoryEncoding(num_tokens=index.vocabulary_size())\n",
    "\n",
    "  # Apply multi-hot encoding to the indices. The lambda function captures the\n",
    "  # layer, so you can use them, or include them in the Keras Functional model later.\n",
    "  return lambda feature: encoder(index(feature))"
   ]
  },
  {
   "cell_type": "code",
   "execution_count": null,
   "id": "199b32cc",
   "metadata": {},
   "outputs": [],
   "source": [
    "test_type_col = train_features['months']\n",
    "test_type_layer = get_category_encoding_layer(name='months',\n",
    "                                              dataset=train_ds,\n",
    "                                              dtype='string')\n",
    "test_type_layer(test_type_col)"
   ]
  },
  {
   "cell_type": "code",
   "execution_count": null,
   "id": "30f12358",
   "metadata": {},
   "outputs": [],
   "source": [
    "batch_size = 32\n",
    "train_ds = df_to_dataset(train, batch_size=batch_size)\n",
    "val_ds = df_to_dataset(val, shuffle=False, batch_size=batch_size)\n",
    "test_ds = df_to_dataset(test, shuffle=False, batch_size=batch_size)"
   ]
  },
  {
   "cell_type": "code",
   "execution_count": null,
   "id": "602cf56f",
   "metadata": {},
   "outputs": [],
   "source": [
    "all_inputs = []\n",
    "encoded_features = []\n",
    "\n",
    "# Numerical features.\n",
    "for header in numerical_features:\n",
    "  numeric_col = tf.keras.Input(shape=(1,), name=header)\n",
    "  normalization_layer = get_normalization_layer(header, train_ds)\n",
    "  encoded_numeric_col = normalization_layer(numeric_col)\n",
    "  all_inputs.append(numeric_col)\n",
    "  encoded_features.append(encoded_numeric_col)"
   ]
  },
  {
   "cell_type": "code",
   "execution_count": null,
   "id": "13c27783",
   "metadata": {},
   "outputs": [],
   "source": [
    "categorical_cols = ['months']\n",
    "\n",
    "for header in categorical_cols:\n",
    "  categorical_col = tf.keras.Input(shape=(1,), name=header, dtype='string')\n",
    "  encoding_layer = get_category_encoding_layer(name=header,\n",
    "                                               dataset=train_ds,\n",
    "                                               dtype='string',\n",
    "                                               max_tokens=5)\n",
    "  encoded_categorical_col = encoding_layer(categorical_col)\n",
    "  all_inputs.append(categorical_col)\n",
    "  encoded_features.append(encoded_categorical_col)"
   ]
  },
  {
   "cell_type": "markdown",
   "id": "f4938d24",
   "metadata": {},
   "source": [
    "### neural net aspect"
   ]
  },
  {
   "cell_type": "code",
   "execution_count": null,
   "id": "01563728",
   "metadata": {},
   "outputs": [],
   "source": [
    "p = .1\n",
    "\n",
    "all_features = tf.keras.layers.concatenate(encoded_features)\n",
    "\n",
    "x = tf.keras.layers.Dropout(p)(all_features)\n",
    "x = tf.keras.layers.Dense(100, activation='relu')(x)\n",
    "\n",
    "x = tf.keras.layers.BatchNormalization()(x)\n",
    "x = tf.keras.layers.Dropout(p)(x)\n",
    "x = tf.keras.layers.Dense(20, activation='relu')(x)\n",
    "\n",
    "x = tf.keras.layers.BatchNormalization()(x)\n",
    "x = tf.keras.layers.Dropout(p)(x)\n",
    "x = tf.keras.layers.Dense(10, activation='relu')(x)\n",
    "\n",
    "x = tf.keras.layers.BatchNormalization()(x)\n",
    "x = tf.keras.layers.Dropout(p)(x)\n",
    "out = tf.keras.layers.Dense(1, activation='sigmoid', name='output')(x)"
   ]
  },
  {
   "cell_type": "code",
   "execution_count": null,
   "id": "9746d089",
   "metadata": {},
   "outputs": [],
   "source": [
    "model = tf.keras.Model(all_inputs, out)"
   ]
  },
  {
   "cell_type": "code",
   "execution_count": null,
   "id": "4281ea38",
   "metadata": {},
   "outputs": [],
   "source": [
    "metrics = [\n",
    "      keras.metrics.TruePositives(name='tp'),\n",
    "      keras.metrics.FalsePositives(name='fp'),\n",
    "      keras.metrics.TrueNegatives(name='tn'),\n",
    "      keras.metrics.FalseNegatives(name='fn'), \n",
    "      keras.metrics.BinaryAccuracy(name='accuracy'),\n",
    "      keras.metrics.Precision(name='precision'),\n",
    "      keras.metrics.Recall(name='recall'),\n",
    "      keras.metrics.AUC(name='auc'),\n",
    "      keras.metrics.AUC(name='prc', curve='PR'), ]# precision-recall curve"
   ]
  },
  {
   "cell_type": "code",
   "execution_count": null,
   "id": "6f3c8625",
   "metadata": {},
   "outputs": [],
   "source": [
    "model.compile(optimizer='adam',\n",
    "              loss=tf.keras.losses.BinaryCrossentropy(from_logits=True),\n",
    "              metrics=metrics)"
   ]
  },
  {
   "cell_type": "code",
   "execution_count": null,
   "id": "ce4c23f5",
   "metadata": {},
   "outputs": [],
   "source": [
    "tf.keras.utils.plot_model(model, show_shapes=True, rankdir=\"LR\")\n"
   ]
  },
  {
   "cell_type": "code",
   "execution_count": null,
   "id": "79bb1c03",
   "metadata": {},
   "outputs": [],
   "source": [
    "model.summary()"
   ]
  },
  {
   "cell_type": "code",
   "execution_count": null,
   "id": "315d7ffc",
   "metadata": {},
   "outputs": [],
   "source": [
    "model.fit(train_ds, epochs=10, validation_data=val_ds)"
   ]
  },
  {
   "cell_type": "code",
   "execution_count": null,
   "id": "9ca2eb85",
   "metadata": {},
   "outputs": [],
   "source": [
    "history = model.fit(train_ds, epochs=10, validation_data=val_ds)"
   ]
  },
  {
   "cell_type": "code",
   "execution_count": null,
   "id": "b55598f3",
   "metadata": {},
   "outputs": [],
   "source": [
    "colors = plt.rcParams['axes.prop_cycle'].by_key()['color']\n",
    "\n",
    "\n",
    "def plot_loss(history, label, n):\n",
    "  # Use a log scale on y-axis to show the wide range of values.\n",
    "  plt.semilogy(history.epoch, history.history['loss'],\n",
    "               color=colors[n], label='Train ' + label)\n",
    "  plt.semilogy(history.epoch, history.history['val_loss'],\n",
    "               color=colors[n], label='Val ' + label,\n",
    "               linestyle=\"--\")\n",
    "  plt.xlabel('Epoch')\n",
    "  plt.ylabel('Loss')"
   ]
  },
  {
   "cell_type": "code",
   "execution_count": null,
   "id": "166f6b32",
   "metadata": {},
   "outputs": [],
   "source": [
    "plot_loss(history, \"Zero Bias\", 0)\n"
   ]
  },
  {
   "cell_type": "code",
   "execution_count": null,
   "id": "32c57f23",
   "metadata": {},
   "outputs": [],
   "source": [
    "def plot_metrics(history):\n",
    "  metrics = ['loss', 'prc', 'precision', 'recall']\n",
    "  for n, metric in enumerate(metrics):\n",
    "    name = metric.replace(\"_\",\" \").capitalize()\n",
    "    plt.subplot(2,2,n+1)\n",
    "    plt.plot(history.epoch, history.history[metric], color=colors[0], label='Train')\n",
    "    plt.plot(history.epoch, history.history['val_'+metric],\n",
    "             color=colors[0], linestyle=\"--\", label='Val')\n",
    "    plt.xlabel('Epoch')\n",
    "    plt.ylabel(name)\n",
    "    if metric == 'loss':\n",
    "      plt.ylim([0, plt.ylim()[1]])\n",
    "    elif metric == 'auc':\n",
    "      plt.ylim([0.8,1])\n",
    "    else:\n",
    "      plt.ylim([0,1])\n",
    "\n",
    "    plt.legend();"
   ]
  },
  {
   "cell_type": "code",
   "execution_count": null,
   "id": "19187379",
   "metadata": {},
   "outputs": [],
   "source": [
    "plot_metrics(history)\n"
   ]
  },
  {
   "cell_type": "code",
   "execution_count": null,
   "id": "9966386f",
   "metadata": {},
   "outputs": [],
   "source": [
    "y_pred = model.predict(test_ds)\n",
    "y_pred = (y_pred>0.5)\n",
    "y_pred"
   ]
  },
  {
   "cell_type": "code",
   "execution_count": null,
   "id": "78f7e5af",
   "metadata": {},
   "outputs": [],
   "source": [
    "y_test = np.concatenate([y for x, y in test_ds], axis=0)\n",
    "y_test"
   ]
  },
  {
   "cell_type": "code",
   "execution_count": null,
   "id": "68e9e0a5",
   "metadata": {},
   "outputs": [],
   "source": [
    "cm = confusion_matrix(example, y_pred)\n",
    "cm"
   ]
  },
  {
   "cell_type": "code",
   "execution_count": null,
   "id": "ba616dd4",
   "metadata": {},
   "outputs": [],
   "source": [
    "acc = accuracy_score(y_test, y_pred)\n",
    "acc"
   ]
  },
  {
   "cell_type": "code",
   "execution_count": null,
   "id": "5df028f8",
   "metadata": {},
   "outputs": [],
   "source": [
    "recall = recall_score(y_test, y_pred)\n",
    "recall"
   ]
  },
  {
   "cell_type": "code",
   "execution_count": null,
   "id": "1cc01a6f",
   "metadata": {},
   "outputs": [],
   "source": [
    "final = classification_report(y_test, y_pred)\n",
    "print(final)"
   ]
  },
  {
   "cell_type": "code",
   "execution_count": null,
   "id": "96238d7e",
   "metadata": {},
   "outputs": [],
   "source": [
    "from sklearn.metrics import roc_curve, roc_auc_score\n",
    "\n",
    "fpr, tpr, _ = roc_curve(y_test,  y_pred)\n",
    "auc = roc_auc_score(y_test, y_pred)\n",
    "plt.plot(fpr,tpr,label=\"data 1, auc=\"+str(auc))\n",
    "plt.legend(loc=4)\n",
    "plt.title('Naive Bayes ROC curve')\n",
    "plt.show()"
   ]
  },
  {
   "cell_type": "code",
   "execution_count": null,
   "id": "e9eef9f2",
   "metadata": {},
   "outputs": [],
   "source": []
  }
 ],
 "metadata": {
  "kernelspec": {
   "display_name": "Python 3",
   "language": "python",
   "name": "python3"
  },
  "language_info": {
   "codemirror_mode": {
    "name": "ipython",
    "version": 3
   },
   "file_extension": ".py",
   "mimetype": "text/x-python",
   "name": "python",
   "nbconvert_exporter": "python",
   "pygments_lexer": "ipython3",
   "version": "3.8.8"
  },
  "toc": {
   "base_numbering": 1,
   "nav_menu": {},
   "number_sections": true,
   "sideBar": true,
   "skip_h1_title": false,
   "title_cell": "Table of Contents",
   "title_sidebar": "Contents",
   "toc_cell": false,
   "toc_position": {},
   "toc_section_display": true,
   "toc_window_display": false
  }
 },
 "nbformat": 4,
 "nbformat_minor": 5
}
